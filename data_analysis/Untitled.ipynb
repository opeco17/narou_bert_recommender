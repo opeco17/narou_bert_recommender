{
 "cells": [
  {
   "cell_type": "code",
   "execution_count": 12,
   "metadata": {},
   "outputs": [],
   "source": [
    "import pandas as pd"
   ]
  },
  {
   "cell_type": "code",
   "execution_count": 13,
   "metadata": {},
   "outputs": [],
   "source": [
    "df = pd.read_csv('./dataset/csv/detail_text_with_sup.csv')"
   ]
  },
  {
   "cell_type": "code",
   "execution_count": 20,
   "metadata": {},
   "outputs": [
    {
     "data": {
      "text/plain": [
       "'{\"genre\":9903.0,\"novel_type\":1.0,\"end\":1.0,\"general_all_no\":3.0,\"isr15\":0.0,\"isbl\":0.0,\"isgl\":0.0,\"iszankoku\":0.0,\"istensei\":0.0,\"istenni\":0.0,\"pc_or_k\":2.0,\"is_evaluated\":0,\"title_length\":8,\"story_length\":299,\"text_length\":333,\"keyword_number\":6,\"noun_proportion_in_text\":0.1321321321,\"year\":2020}\\n{\"genre\":201.0,\"novel_type\":1.0,\"end\":1.0,\"general_all_no\":14.0,\"isr15\":1.0,\"isbl\":0.0,\"isgl\":0.0,\"iszankoku\":1.0,\"istensei\":0.0,\"istenni\":1.0,\"pc_or_k\":2.0,\"is_evaluated\":1,\"title_length\":40,\"story_length\":573,\"text_length\":2717,\"keyword_number\":15,\"noun_proportion_in_text\":0.0990062569,\"year\":2020}\\n{\"genre\":201.0,\"novel_type\":1.0,\"end\":1.0,\"general_all_no\":29.0,\"isr15\":1.0,\"isbl\":0.0,\"isgl\":0.0,\"iszankoku\":1.0,\"istensei\":1.0,\"istenni\":0.0,\"pc_or_k\":2.0,\"is_evaluated\":1,\"title_length\":35,\"story_length\":322,\"text_length\":6095,\"keyword_number\":15,\"noun_proportion_in_text\":0.0879409352,\"year\":2020}\\n{\"genre\":201.0,\"novel_type\":1.0,\"end\":1.0,\"general_all_no\":224.0,\"isr15\":1.0,\"isbl\":0.0,\"isgl\":0.0,\"iszankoku\":1.0,\"istensei\":1.0,\"istenni\":0.0,\"pc_or_k\":2.0,\"is_evaluated\":1,\"title_length\":11,\"story_length\":180,\"text_length\":3063,\"keyword_number\":12,\"noun_proportion_in_text\":0.1165523996,\"year\":2019}\\n{\"genre\":306.0,\"novel_type\":1.0,\"end\":1.0,\"general_all_no\":10.0,\"isr15\":0.0,\"isbl\":0.0,\"isgl\":0.0,\"iszankoku\":0.0,\"istensei\":0.0,\"istenni\":0.0,\"pc_or_k\":2.0,\"is_evaluated\":0,\"title_length\":8,\"story_length\":214,\"text_length\":759,\"keyword_number\":15,\"noun_proportion_in_text\":0.0988142292,\"year\":2020}'"
      ]
     },
     "execution_count": 20,
     "metadata": {},
     "output_type": "execute_result"
    }
   ],
   "source": [
    "df.head().to_json(orient='records', lines=True)"
   ]
  },
  {
   "cell_type": "code",
   "execution_count": null,
   "metadata": {},
   "outputs": [],
   "source": []
  }
 ],
 "metadata": {
  "kernelspec": {
   "display_name": "Python 3",
   "language": "python",
   "name": "python3"
  },
  "language_info": {
   "codemirror_mode": {
    "name": "ipython",
    "version": 3
   },
   "file_extension": ".py",
   "mimetype": "text/x-python",
   "name": "python",
   "nbconvert_exporter": "python",
   "pygments_lexer": "ipython3",
   "version": "3.7.4"
  }
 },
 "nbformat": 4,
 "nbformat_minor": 4
}
