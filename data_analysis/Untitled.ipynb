{
 "cells": [
  {
   "cell_type": "code",
   "execution_count": 31,
   "metadata": {},
   "outputs": [],
   "source": [
    "import pandas as pd\n",
    "import pickle"
   ]
  },
  {
   "cell_type": "code",
   "execution_count": 35,
   "metadata": {},
   "outputs": [],
   "source": [
    "df = pd.read_csv('./dataset/csv/detail_text_with_sup.csv')"
   ]
  },
  {
   "cell_type": "code",
   "execution_count": 36,
   "metadata": {},
   "outputs": [
    {
     "data": {
      "text/plain": [
       "Index(['genre', 'novel_type', 'end', 'general_all_no', 'isr15', 'isbl', 'isgl',\n",
       "       'iszankoku', 'istensei', 'istenni', 'pc_or_k', 'is_evaluated',\n",
       "       'title_length', 'story_length', 'text_length', 'keyword_number',\n",
       "       'noun_proportion_in_text', 'year'],\n",
       "      dtype='object')"
      ]
     },
     "execution_count": 36,
     "metadata": {},
     "output_type": "execute_result"
    }
   ],
   "source": [
    "df.columns"
   ]
  },
  {
   "cell_type": "code",
   "execution_count": 20,
   "metadata": {},
   "outputs": [
    {
     "data": {
      "text/plain": [
       "'{\"genre\":9903.0,\"novel_type\":1.0,\"end\":1.0,\"general_all_no\":3.0,\"isr15\":0.0,\"isbl\":0.0,\"isgl\":0.0,\"iszankoku\":0.0,\"istensei\":0.0,\"istenni\":0.0,\"pc_or_k\":2.0,\"is_evaluated\":0,\"title_length\":8,\"story_length\":299,\"text_length\":333,\"keyword_number\":6,\"noun_proportion_in_text\":0.1321321321,\"year\":2020}\\n{\"genre\":201.0,\"novel_type\":1.0,\"end\":1.0,\"general_all_no\":14.0,\"isr15\":1.0,\"isbl\":0.0,\"isgl\":0.0,\"iszankoku\":1.0,\"istensei\":0.0,\"istenni\":1.0,\"pc_or_k\":2.0,\"is_evaluated\":1,\"title_length\":40,\"story_length\":573,\"text_length\":2717,\"keyword_number\":15,\"noun_proportion_in_text\":0.0990062569,\"year\":2020}\\n{\"genre\":201.0,\"novel_type\":1.0,\"end\":1.0,\"general_all_no\":29.0,\"isr15\":1.0,\"isbl\":0.0,\"isgl\":0.0,\"iszankoku\":1.0,\"istensei\":1.0,\"istenni\":0.0,\"pc_or_k\":2.0,\"is_evaluated\":1,\"title_length\":35,\"story_length\":322,\"text_length\":6095,\"keyword_number\":15,\"noun_proportion_in_text\":0.0879409352,\"year\":2020}\\n{\"genre\":201.0,\"novel_type\":1.0,\"end\":1.0,\"general_all_no\":224.0,\"isr15\":1.0,\"isbl\":0.0,\"isgl\":0.0,\"iszankoku\":1.0,\"istensei\":1.0,\"istenni\":0.0,\"pc_or_k\":2.0,\"is_evaluated\":1,\"title_length\":11,\"story_length\":180,\"text_length\":3063,\"keyword_number\":12,\"noun_proportion_in_text\":0.1165523996,\"year\":2019}\\n{\"genre\":306.0,\"novel_type\":1.0,\"end\":1.0,\"general_all_no\":10.0,\"isr15\":0.0,\"isbl\":0.0,\"isgl\":0.0,\"iszankoku\":0.0,\"istensei\":0.0,\"istenni\":0.0,\"pc_or_k\":2.0,\"is_evaluated\":0,\"title_length\":8,\"story_length\":214,\"text_length\":759,\"keyword_number\":15,\"noun_proportion_in_text\":0.0988142292,\"year\":2020}'"
      ]
     },
     "execution_count": 20,
     "metadata": {},
     "output_type": "execute_result"
    }
   ],
   "source": [
    "df.head().to_json(orient='records', lines=True)"
   ]
  },
  {
   "cell_type": "code",
   "execution_count": 28,
   "metadata": {
    "scrolled": true
   },
   "outputs": [],
   "source": [
    "x = df.head().to_dict()"
   ]
  },
  {
   "cell_type": "code",
   "execution_count": 32,
   "metadata": {
    "scrolled": true
   },
   "outputs": [],
   "source": [
    "model = pickle.load(open('../mlserver/src/model/lightgbm_model.pkl', 'rb'))"
   ]
  },
  {
   "cell_type": "code",
   "execution_count": 39,
   "metadata": {
    "scrolled": true
   },
   "outputs": [
    {
     "data": {
      "text/plain": [
       "array([0, 1, 1, ..., 1, 0, 0])"
      ]
     },
     "execution_count": 39,
     "metadata": {},
     "output_type": "execute_result"
    }
   ],
   "source": [
    "model.predict(df.drop(['is_evaluated', 'genre'], axis=1))"
   ]
  },
  {
   "cell_type": "code",
   "execution_count": 46,
   "metadata": {},
   "outputs": [
    {
     "data": {
      "text/html": [
       "<div>\n",
       "<style scoped>\n",
       "    .dataframe tbody tr th:only-of-type {\n",
       "        vertical-align: middle;\n",
       "    }\n",
       "\n",
       "    .dataframe tbody tr th {\n",
       "        vertical-align: top;\n",
       "    }\n",
       "\n",
       "    .dataframe thead th {\n",
       "        text-align: right;\n",
       "    }\n",
       "</style>\n",
       "<table border=\"1\" class=\"dataframe\">\n",
       "  <thead>\n",
       "    <tr style=\"text-align: right;\">\n",
       "      <th></th>\n",
       "      <th>genre</th>\n",
       "      <th>novel_type</th>\n",
       "      <th>end</th>\n",
       "      <th>general_all_no</th>\n",
       "      <th>isr15</th>\n",
       "      <th>isbl</th>\n",
       "      <th>isgl</th>\n",
       "      <th>iszankoku</th>\n",
       "      <th>istensei</th>\n",
       "      <th>istenni</th>\n",
       "      <th>pc_or_k</th>\n",
       "      <th>is_evaluated</th>\n",
       "      <th>title_length</th>\n",
       "      <th>story_length</th>\n",
       "      <th>text_length</th>\n",
       "      <th>keyword_number</th>\n",
       "      <th>noun_proportion_in_text</th>\n",
       "      <th>year</th>\n",
       "    </tr>\n",
       "  </thead>\n",
       "  <tbody>\n",
       "    <tr>\n",
       "      <th>0</th>\n",
       "      <td>9903.0</td>\n",
       "      <td>1.0</td>\n",
       "      <td>1.0</td>\n",
       "      <td>3.0</td>\n",
       "      <td>0.0</td>\n",
       "      <td>0.0</td>\n",
       "      <td>0.0</td>\n",
       "      <td>0.0</td>\n",
       "      <td>0.0</td>\n",
       "      <td>0.0</td>\n",
       "      <td>2.0</td>\n",
       "      <td>0</td>\n",
       "      <td>8</td>\n",
       "      <td>299</td>\n",
       "      <td>333</td>\n",
       "      <td>6</td>\n",
       "      <td>0.132132</td>\n",
       "      <td>2020</td>\n",
       "    </tr>\n",
       "    <tr>\n",
       "      <th>1</th>\n",
       "      <td>201.0</td>\n",
       "      <td>1.0</td>\n",
       "      <td>1.0</td>\n",
       "      <td>14.0</td>\n",
       "      <td>1.0</td>\n",
       "      <td>0.0</td>\n",
       "      <td>0.0</td>\n",
       "      <td>1.0</td>\n",
       "      <td>0.0</td>\n",
       "      <td>1.0</td>\n",
       "      <td>2.0</td>\n",
       "      <td>1</td>\n",
       "      <td>40</td>\n",
       "      <td>573</td>\n",
       "      <td>2717</td>\n",
       "      <td>15</td>\n",
       "      <td>0.099006</td>\n",
       "      <td>2020</td>\n",
       "    </tr>\n",
       "    <tr>\n",
       "      <th>2</th>\n",
       "      <td>201.0</td>\n",
       "      <td>1.0</td>\n",
       "      <td>1.0</td>\n",
       "      <td>29.0</td>\n",
       "      <td>1.0</td>\n",
       "      <td>0.0</td>\n",
       "      <td>0.0</td>\n",
       "      <td>1.0</td>\n",
       "      <td>1.0</td>\n",
       "      <td>0.0</td>\n",
       "      <td>2.0</td>\n",
       "      <td>1</td>\n",
       "      <td>35</td>\n",
       "      <td>322</td>\n",
       "      <td>6095</td>\n",
       "      <td>15</td>\n",
       "      <td>0.087941</td>\n",
       "      <td>2020</td>\n",
       "    </tr>\n",
       "    <tr>\n",
       "      <th>3</th>\n",
       "      <td>201.0</td>\n",
       "      <td>1.0</td>\n",
       "      <td>1.0</td>\n",
       "      <td>224.0</td>\n",
       "      <td>1.0</td>\n",
       "      <td>0.0</td>\n",
       "      <td>0.0</td>\n",
       "      <td>1.0</td>\n",
       "      <td>1.0</td>\n",
       "      <td>0.0</td>\n",
       "      <td>2.0</td>\n",
       "      <td>1</td>\n",
       "      <td>11</td>\n",
       "      <td>180</td>\n",
       "      <td>3063</td>\n",
       "      <td>12</td>\n",
       "      <td>0.116552</td>\n",
       "      <td>2019</td>\n",
       "    </tr>\n",
       "    <tr>\n",
       "      <th>4</th>\n",
       "      <td>306.0</td>\n",
       "      <td>1.0</td>\n",
       "      <td>1.0</td>\n",
       "      <td>10.0</td>\n",
       "      <td>0.0</td>\n",
       "      <td>0.0</td>\n",
       "      <td>0.0</td>\n",
       "      <td>0.0</td>\n",
       "      <td>0.0</td>\n",
       "      <td>0.0</td>\n",
       "      <td>2.0</td>\n",
       "      <td>0</td>\n",
       "      <td>8</td>\n",
       "      <td>214</td>\n",
       "      <td>759</td>\n",
       "      <td>15</td>\n",
       "      <td>0.098814</td>\n",
       "      <td>2020</td>\n",
       "    </tr>\n",
       "  </tbody>\n",
       "</table>\n",
       "</div>"
      ],
      "text/plain": [
       "    genre  novel_type  end  general_all_no  isr15  isbl  isgl  iszankoku  \\\n",
       "0  9903.0         1.0  1.0             3.0    0.0   0.0   0.0        0.0   \n",
       "1   201.0         1.0  1.0            14.0    1.0   0.0   0.0        1.0   \n",
       "2   201.0         1.0  1.0            29.0    1.0   0.0   0.0        1.0   \n",
       "3   201.0         1.0  1.0           224.0    1.0   0.0   0.0        1.0   \n",
       "4   306.0         1.0  1.0            10.0    0.0   0.0   0.0        0.0   \n",
       "\n",
       "   istensei  istenni  pc_or_k  is_evaluated  title_length  story_length  \\\n",
       "0       0.0      0.0      2.0             0             8           299   \n",
       "1       0.0      1.0      2.0             1            40           573   \n",
       "2       1.0      0.0      2.0             1            35           322   \n",
       "3       1.0      0.0      2.0             1            11           180   \n",
       "4       0.0      0.0      2.0             0             8           214   \n",
       "\n",
       "   text_length  keyword_number  noun_proportion_in_text  year  \n",
       "0          333               6                 0.132132  2020  \n",
       "1         2717              15                 0.099006  2020  \n",
       "2         6095              15                 0.087941  2020  \n",
       "3         3063              12                 0.116552  2019  \n",
       "4          759              15                 0.098814  2020  "
      ]
     },
     "execution_count": 46,
     "metadata": {},
     "output_type": "execute_result"
    }
   ],
   "source": [
    "df.head()"
   ]
  },
  {
   "cell_type": "code",
   "execution_count": 52,
   "metadata": {},
   "outputs": [],
   "source": [
    "data = {}\n",
    "data = {column: list(df[column])[:5] for column in list(df.columns)}"
   ]
  },
  {
   "cell_type": "code",
   "execution_count": 53,
   "metadata": {
    "scrolled": true
   },
   "outputs": [
    {
     "data": {
      "text/plain": [
       "{'genre': [9903.0, 201.0, 201.0, 201.0, 306.0],\n",
       " 'novel_type': [1.0, 1.0, 1.0, 1.0, 1.0],\n",
       " 'end': [1.0, 1.0, 1.0, 1.0, 1.0],\n",
       " 'general_all_no': [3.0, 14.0, 29.0, 224.0, 10.0],\n",
       " 'isr15': [0.0, 1.0, 1.0, 1.0, 0.0],\n",
       " 'isbl': [0.0, 0.0, 0.0, 0.0, 0.0],\n",
       " 'isgl': [0.0, 0.0, 0.0, 0.0, 0.0],\n",
       " 'iszankoku': [0.0, 1.0, 1.0, 1.0, 0.0],\n",
       " 'istensei': [0.0, 0.0, 1.0, 1.0, 0.0],\n",
       " 'istenni': [0.0, 1.0, 0.0, 0.0, 0.0],\n",
       " 'pc_or_k': [2.0, 2.0, 2.0, 2.0, 2.0],\n",
       " 'is_evaluated': [0, 1, 1, 1, 0],\n",
       " 'title_length': [8, 40, 35, 11, 8],\n",
       " 'story_length': [299, 573, 322, 180, 214],\n",
       " 'text_length': [333, 2717, 6095, 3063, 759],\n",
       " 'keyword_number': [6, 15, 15, 12, 15],\n",
       " 'noun_proportion_in_text': [0.13213213213213212,\n",
       "  0.09900625690099374,\n",
       "  0.08794093519278097,\n",
       "  0.11655239960822725,\n",
       "  0.09881422924901186],\n",
       " 'year': [2020, 2020, 2020, 2019, 2020]}"
      ]
     },
     "execution_count": 53,
     "metadata": {},
     "output_type": "execute_result"
    }
   ],
   "source": [
    "data"
   ]
  },
  {
   "cell_type": "code",
   "execution_count": 59,
   "metadata": {},
   "outputs": [],
   "source": [
    "import json\n",
    "data = json.dumps(data)"
   ]
  },
  {
   "cell_type": "code",
   "execution_count": 73,
   "metadata": {},
   "outputs": [
    {
     "ename": "AttributeError",
     "evalue": "'str' object has no attribute 'columns'",
     "output_type": "error",
     "traceback": [
      "\u001b[0;31m---------------------------------------------------------------------------\u001b[0m",
      "\u001b[0;31mAttributeError\u001b[0m                            Traceback (most recent call last)",
      "\u001b[0;32m<ipython-input-73-c3d483a1c074>\u001b[0m in \u001b[0;36m<module>\u001b[0;34m\u001b[0m\n\u001b[0;32m----> 1\u001b[0;31m \u001b[0mdata\u001b[0m\u001b[0;34m.\u001b[0m\u001b[0mcolumns\u001b[0m\u001b[0;34m\u001b[0m\u001b[0;34m\u001b[0m\u001b[0m\n\u001b[0m",
      "\u001b[0;31mAttributeError\u001b[0m: 'str' object has no attribute 'columns'"
     ]
    }
   ],
   "source": [
    "data.columns"
   ]
  },
  {
   "cell_type": "code",
   "execution_count": 72,
   "metadata": {
    "scrolled": true
   },
   "outputs": [
    {
     "ename": "ValueError",
     "evalue": "Number of features of the model must match the input. Model n_features_ is 16 and input n_features is 18 ",
     "output_type": "error",
     "traceback": [
      "\u001b[0;31m---------------------------------------------------------------------------\u001b[0m",
      "\u001b[0;31mValueError\u001b[0m                                Traceback (most recent call last)",
      "\u001b[0;32m<ipython-input-72-b68f375de795>\u001b[0m in \u001b[0;36m<module>\u001b[0;34m\u001b[0m\n\u001b[0;32m----> 1\u001b[0;31m \u001b[0mmodel\u001b[0m\u001b[0;34m.\u001b[0m\u001b[0mpredict\u001b[0m\u001b[0;34m(\u001b[0m\u001b[0mpd\u001b[0m\u001b[0;34m.\u001b[0m\u001b[0mDataFrame\u001b[0m\u001b[0;34m(\u001b[0m\u001b[0mjson\u001b[0m\u001b[0;34m.\u001b[0m\u001b[0mloads\u001b[0m\u001b[0;34m(\u001b[0m\u001b[0mdata\u001b[0m\u001b[0;34m)\u001b[0m\u001b[0;34m)\u001b[0m\u001b[0;34m)\u001b[0m\u001b[0;34m\u001b[0m\u001b[0;34m\u001b[0m\u001b[0m\n\u001b[0m",
      "\u001b[0;32m~/opt/anaconda3/lib/python3.7/site-packages/lightgbm/sklearn.py\u001b[0m in \u001b[0;36mpredict\u001b[0;34m(self, X, raw_score, num_iteration, pred_leaf, pred_contrib, **kwargs)\u001b[0m\n\u001b[1;32m    812\u001b[0m         \u001b[0;34m\"\"\"Docstring is inherited from the LGBMModel.\"\"\"\u001b[0m\u001b[0;34m\u001b[0m\u001b[0;34m\u001b[0m\u001b[0m\n\u001b[1;32m    813\u001b[0m         result = self.predict_proba(X, raw_score, num_iteration,\n\u001b[0;32m--> 814\u001b[0;31m                                     pred_leaf, pred_contrib, **kwargs)\n\u001b[0m\u001b[1;32m    815\u001b[0m         \u001b[0;32mif\u001b[0m \u001b[0mraw_score\u001b[0m \u001b[0;32mor\u001b[0m \u001b[0mpred_leaf\u001b[0m \u001b[0;32mor\u001b[0m \u001b[0mpred_contrib\u001b[0m\u001b[0;34m:\u001b[0m\u001b[0;34m\u001b[0m\u001b[0;34m\u001b[0m\u001b[0m\n\u001b[1;32m    816\u001b[0m             \u001b[0;32mreturn\u001b[0m \u001b[0mresult\u001b[0m\u001b[0;34m\u001b[0m\u001b[0;34m\u001b[0m\u001b[0m\n",
      "\u001b[0;32m~/opt/anaconda3/lib/python3.7/site-packages/lightgbm/sklearn.py\u001b[0m in \u001b[0;36mpredict_proba\u001b[0;34m(self, X, raw_score, num_iteration, pred_leaf, pred_contrib, **kwargs)\u001b[0m\n\u001b[1;32m    861\u001b[0m         \"\"\"\n\u001b[1;32m    862\u001b[0m         result = super(LGBMClassifier, self).predict(X, raw_score, num_iteration,\n\u001b[0;32m--> 863\u001b[0;31m                                                      pred_leaf, pred_contrib, **kwargs)\n\u001b[0m\u001b[1;32m    864\u001b[0m         \u001b[0;32mif\u001b[0m \u001b[0mself\u001b[0m\u001b[0;34m.\u001b[0m\u001b[0m_n_classes\u001b[0m \u001b[0;34m>\u001b[0m \u001b[0;36m2\u001b[0m \u001b[0;32mor\u001b[0m \u001b[0mraw_score\u001b[0m \u001b[0;32mor\u001b[0m \u001b[0mpred_leaf\u001b[0m \u001b[0;32mor\u001b[0m \u001b[0mpred_contrib\u001b[0m\u001b[0;34m:\u001b[0m\u001b[0;34m\u001b[0m\u001b[0;34m\u001b[0m\u001b[0m\n\u001b[1;32m    865\u001b[0m             \u001b[0;32mreturn\u001b[0m \u001b[0mresult\u001b[0m\u001b[0;34m\u001b[0m\u001b[0;34m\u001b[0m\u001b[0m\n",
      "\u001b[0;32m~/opt/anaconda3/lib/python3.7/site-packages/lightgbm/sklearn.py\u001b[0m in \u001b[0;36mpredict\u001b[0;34m(self, X, raw_score, num_iteration, pred_leaf, pred_contrib, **kwargs)\u001b[0m\n\u001b[1;32m    661\u001b[0m                              \u001b[0;34m\"match the input. Model n_features_ is %s and \"\u001b[0m\u001b[0;34m\u001b[0m\u001b[0;34m\u001b[0m\u001b[0m\n\u001b[1;32m    662\u001b[0m                              \u001b[0;34m\"input n_features is %s \"\u001b[0m\u001b[0;34m\u001b[0m\u001b[0;34m\u001b[0m\u001b[0m\n\u001b[0;32m--> 663\u001b[0;31m                              % (self._n_features, n_features))\n\u001b[0m\u001b[1;32m    664\u001b[0m         return self.booster_.predict(X, raw_score=raw_score, num_iteration=num_iteration,\n\u001b[1;32m    665\u001b[0m                                      pred_leaf=pred_leaf, pred_contrib=pred_contrib, **kwargs)\n",
      "\u001b[0;31mValueError\u001b[0m: Number of features of the model must match the input. Model n_features_ is 16 and input n_features is 18 "
     ]
    }
   ],
   "source": [
    "model.predict(pd.DataFrame(json.loads(data)))"
   ]
  },
  {
   "cell_type": "code",
   "execution_count": 76,
   "metadata": {},
   "outputs": [
    {
     "data": {
      "text/html": [
       "<div>\n",
       "<style scoped>\n",
       "    .dataframe tbody tr th:only-of-type {\n",
       "        vertical-align: middle;\n",
       "    }\n",
       "\n",
       "    .dataframe tbody tr th {\n",
       "        vertical-align: top;\n",
       "    }\n",
       "\n",
       "    .dataframe thead th {\n",
       "        text-align: right;\n",
       "    }\n",
       "</style>\n",
       "<table border=\"1\" class=\"dataframe\">\n",
       "  <thead>\n",
       "    <tr style=\"text-align: right;\">\n",
       "      <th></th>\n",
       "      <th>genre</th>\n",
       "      <th>novel_type</th>\n",
       "      <th>end</th>\n",
       "      <th>general_all_no</th>\n",
       "      <th>isr15</th>\n",
       "      <th>isbl</th>\n",
       "      <th>isgl</th>\n",
       "      <th>iszankoku</th>\n",
       "      <th>istensei</th>\n",
       "      <th>istenni</th>\n",
       "      <th>pc_or_k</th>\n",
       "      <th>is_evaluated</th>\n",
       "      <th>title_length</th>\n",
       "      <th>story_length</th>\n",
       "      <th>text_length</th>\n",
       "      <th>keyword_number</th>\n",
       "      <th>noun_proportion_in_text</th>\n",
       "      <th>year</th>\n",
       "    </tr>\n",
       "  </thead>\n",
       "  <tbody>\n",
       "    <tr>\n",
       "      <th>0</th>\n",
       "      <td>9903.0</td>\n",
       "      <td>1.0</td>\n",
       "      <td>1.0</td>\n",
       "      <td>3.0</td>\n",
       "      <td>0.0</td>\n",
       "      <td>0.0</td>\n",
       "      <td>0.0</td>\n",
       "      <td>0.0</td>\n",
       "      <td>0.0</td>\n",
       "      <td>0.0</td>\n",
       "      <td>2.0</td>\n",
       "      <td>0</td>\n",
       "      <td>8</td>\n",
       "      <td>299</td>\n",
       "      <td>333</td>\n",
       "      <td>6</td>\n",
       "      <td>0.132132</td>\n",
       "      <td>2020</td>\n",
       "    </tr>\n",
       "    <tr>\n",
       "      <th>1</th>\n",
       "      <td>201.0</td>\n",
       "      <td>1.0</td>\n",
       "      <td>1.0</td>\n",
       "      <td>14.0</td>\n",
       "      <td>1.0</td>\n",
       "      <td>0.0</td>\n",
       "      <td>0.0</td>\n",
       "      <td>1.0</td>\n",
       "      <td>0.0</td>\n",
       "      <td>1.0</td>\n",
       "      <td>2.0</td>\n",
       "      <td>1</td>\n",
       "      <td>40</td>\n",
       "      <td>573</td>\n",
       "      <td>2717</td>\n",
       "      <td>15</td>\n",
       "      <td>0.099006</td>\n",
       "      <td>2020</td>\n",
       "    </tr>\n",
       "    <tr>\n",
       "      <th>2</th>\n",
       "      <td>201.0</td>\n",
       "      <td>1.0</td>\n",
       "      <td>1.0</td>\n",
       "      <td>29.0</td>\n",
       "      <td>1.0</td>\n",
       "      <td>0.0</td>\n",
       "      <td>0.0</td>\n",
       "      <td>1.0</td>\n",
       "      <td>1.0</td>\n",
       "      <td>0.0</td>\n",
       "      <td>2.0</td>\n",
       "      <td>1</td>\n",
       "      <td>35</td>\n",
       "      <td>322</td>\n",
       "      <td>6095</td>\n",
       "      <td>15</td>\n",
       "      <td>0.087941</td>\n",
       "      <td>2020</td>\n",
       "    </tr>\n",
       "    <tr>\n",
       "      <th>3</th>\n",
       "      <td>201.0</td>\n",
       "      <td>1.0</td>\n",
       "      <td>1.0</td>\n",
       "      <td>224.0</td>\n",
       "      <td>1.0</td>\n",
       "      <td>0.0</td>\n",
       "      <td>0.0</td>\n",
       "      <td>1.0</td>\n",
       "      <td>1.0</td>\n",
       "      <td>0.0</td>\n",
       "      <td>2.0</td>\n",
       "      <td>1</td>\n",
       "      <td>11</td>\n",
       "      <td>180</td>\n",
       "      <td>3063</td>\n",
       "      <td>12</td>\n",
       "      <td>0.116552</td>\n",
       "      <td>2019</td>\n",
       "    </tr>\n",
       "    <tr>\n",
       "      <th>4</th>\n",
       "      <td>306.0</td>\n",
       "      <td>1.0</td>\n",
       "      <td>1.0</td>\n",
       "      <td>10.0</td>\n",
       "      <td>0.0</td>\n",
       "      <td>0.0</td>\n",
       "      <td>0.0</td>\n",
       "      <td>0.0</td>\n",
       "      <td>0.0</td>\n",
       "      <td>0.0</td>\n",
       "      <td>2.0</td>\n",
       "      <td>0</td>\n",
       "      <td>8</td>\n",
       "      <td>214</td>\n",
       "      <td>759</td>\n",
       "      <td>15</td>\n",
       "      <td>0.098814</td>\n",
       "      <td>2020</td>\n",
       "    </tr>\n",
       "  </tbody>\n",
       "</table>\n",
       "</div>"
      ],
      "text/plain": [
       "    genre  novel_type  end  general_all_no  isr15  isbl  isgl  iszankoku  \\\n",
       "0  9903.0         1.0  1.0             3.0    0.0   0.0   0.0        0.0   \n",
       "1   201.0         1.0  1.0            14.0    1.0   0.0   0.0        1.0   \n",
       "2   201.0         1.0  1.0            29.0    1.0   0.0   0.0        1.0   \n",
       "3   201.0         1.0  1.0           224.0    1.0   0.0   0.0        1.0   \n",
       "4   306.0         1.0  1.0            10.0    0.0   0.0   0.0        0.0   \n",
       "\n",
       "   istensei  istenni  pc_or_k  is_evaluated  title_length  story_length  \\\n",
       "0       0.0      0.0      2.0             0             8           299   \n",
       "1       0.0      1.0      2.0             1            40           573   \n",
       "2       1.0      0.0      2.0             1            35           322   \n",
       "3       1.0      0.0      2.0             1            11           180   \n",
       "4       0.0      0.0      2.0             0             8           214   \n",
       "\n",
       "   text_length  keyword_number  noun_proportion_in_text  year  \n",
       "0          333               6                 0.132132  2020  \n",
       "1         2717              15                 0.099006  2020  \n",
       "2         6095              15                 0.087941  2020  \n",
       "3         3063              12                 0.116552  2019  \n",
       "4          759              15                 0.098814  2020  "
      ]
     },
     "execution_count": 76,
     "metadata": {},
     "output_type": "execute_result"
    }
   ],
   "source": [
    "df[list(pd.DataFrame(json.loads(data)).columns)].head()"
   ]
  },
  {
   "cell_type": "code",
   "execution_count": 78,
   "metadata": {},
   "outputs": [
    {
     "data": {
      "text/plain": [
       "18"
      ]
     },
     "execution_count": 78,
     "metadata": {},
     "output_type": "execute_result"
    }
   ],
   "source": [
    "len(df.columns)"
   ]
  },
  {
   "cell_type": "code",
   "execution_count": null,
   "metadata": {},
   "outputs": [],
   "source": []
  }
 ],
 "metadata": {
  "kernelspec": {
   "display_name": "Python 3",
   "language": "python",
   "name": "python3"
  },
  "language_info": {
   "codemirror_mode": {
    "name": "ipython",
    "version": 3
   },
   "file_extension": ".py",
   "mimetype": "text/x-python",
   "name": "python",
   "nbconvert_exporter": "python",
   "pygments_lexer": "ipython3",
   "version": "3.7.4"
  }
 },
 "nbformat": 4,
 "nbformat_minor": 4
}
