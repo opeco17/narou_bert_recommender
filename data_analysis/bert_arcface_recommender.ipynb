{
 "cells": [
  {
   "cell_type": "code",
   "execution_count": 1,
   "metadata": {},
   "outputs": [],
   "source": [
    "import math\n",
    "import re\n",
    "import numpy as np\n",
    "import pandas as pd\n",
    "import matplotlib.pyplot as plt\n",
    "import torch\n",
    "import torch.nn as nn\n",
    "import torch.nn.functional as F\n",
    "import transformers\n",
    "from transformers import BertJapaneseTokenizer, BertModel\n",
    "from sklearn.model_selection import train_test_split\n",
    "from tabulate import tabulate\n",
    "from IPython.display import clear_output\n",
    "%matplotlib inline"
   ]
  },
  {
   "cell_type": "code",
   "execution_count": 2,
   "metadata": {},
   "outputs": [],
   "source": [
    "class BERT(nn.Module):\n",
    "    \n",
    "    def __init__(self, pretrained, h_dim):\n",
    "        super().__init__()\n",
    "        self.bert = BertModel.from_pretrained(pretrained)\n",
    "        self.fc = nn.Linear(768, h_dim)\n",
    "        \n",
    "    \n",
    "    def forward(self, ids, mask):\n",
    "        _, output = self.bert(ids, attention_mask=mask)\n",
    "        output = self.fc(output)\n",
    "        return output"
   ]
  },
  {
   "cell_type": "code",
   "execution_count": 3,
   "metadata": {},
   "outputs": [],
   "source": [
    "class DataLoader(object):\n",
    "    \n",
    "    def __init__(self, df, tokenizer, max_length):\n",
    "        self.x = np.array(df)[:, 0]\n",
    "        self.y = np.array(df)[:, 1:].astype(np.int64)\n",
    "        \n",
    "        self.tokenizer = tokenizer\n",
    "        self.max_length = max_length\n",
    "        self.genre_list = list(df.columns[1:])\n",
    "        \n",
    "    \n",
    "    def __call__(self, index):\n",
    "        text = self.x[index]\n",
    "        label = self.genre_list[np.argmax(self.y[index])]\n",
    "        inputs = self.tokenizer.encode_plus(\n",
    "            text, \n",
    "            add_special_tokens=True, \n",
    "            max_length=self.max_length,\n",
    "            pad_to_max_length=True,\n",
    "            truncation=True\n",
    "        )\n",
    "        ids = inputs['input_ids']\n",
    "        mask = inputs['attention_mask']\n",
    "        \n",
    "        return text, label, torch.LongTensor(ids).unsqueeze(0), torch.LongTensor(mask).unsqueeze(0)"
   ]
  },
  {
   "cell_type": "code",
   "execution_count": 4,
   "metadata": {},
   "outputs": [],
   "source": [
    "class MyDataset(torch.utils.data.Dataset):\n",
    "    \n",
    "    def __init__(self, df, tokenizer, max_length):\n",
    "        self.x = np.array(df)[:, 0]\n",
    "        self.y = np.array(df)[:, 1:].astype(np.int64)\n",
    "        \n",
    "        self.tokenizer = tokenizer\n",
    "        self.max_length = max_length\n",
    "        \n",
    "    \n",
    "    def __len__(self):\n",
    "        return len(self.x)\n",
    "    \n",
    "    \n",
    "    def __getitem__(self, index):\n",
    "        text = self.x[index]\n",
    "        label = self.y[index]\n",
    "        inputs = self.tokenizer.encode_plus(\n",
    "            text, \n",
    "            add_special_tokens=True, \n",
    "            max_length=self.max_length,\n",
    "            pad_to_max_length=True,\n",
    "            truncation=True\n",
    "        )\n",
    "        ids = inputs['input_ids']\n",
    "        mask = inputs['attention_mask']\n",
    "        \n",
    "        return torch.LongTensor(ids), torch.LongTensor(mask), torch.argmax(torch.tensor(label))"
   ]
  },
  {
   "cell_type": "code",
   "execution_count": 6,
   "metadata": {},
   "outputs": [],
   "source": [
    "pretrained = 'cl-tohoku/bert-base-japanese-whole-word-masking'\n",
    "tokenizer = BertJapaneseTokenizer.from_pretrained(pretrained)\n",
    "max_length = 512\n",
    "batch_size = 64\n",
    "h_dim = 64"
   ]
  },
  {
   "cell_type": "code",
   "execution_count": 7,
   "metadata": {},
   "outputs": [],
   "source": [
    "bert = BERT(pretrained, h_dim)"
   ]
  },
  {
   "cell_type": "code",
   "execution_count": 8,
   "metadata": {
    "scrolled": true
   },
   "outputs": [
    {
     "data": {
      "text/plain": [
       "<All keys matched successfully>"
      ]
     },
     "execution_count": 8,
     "metadata": {},
     "output_type": "execute_result"
    }
   ],
   "source": [
    "bert.load_state_dict(torch.load('./model_64hdim/bert5000.pth', map_location=torch.device('cpu')))"
   ]
  },
  {
   "cell_type": "code",
   "execution_count": 14,
   "metadata": {},
   "outputs": [],
   "source": [
    "df = pd.read_csv('./train_genre.csv').drop_duplicates('story')\n",
    "df = df[df['all_point']>=5.0]\n",
    "df = df.drop('Unnamed: 0', axis=1).drop('Unnamed: 0.1', axis=1).drop('ncode', axis=1).drop('all_point', axis=1)\n",
    "df = df.sample(frac=1).reset_index(drop=True)"
   ]
  },
  {
   "cell_type": "code",
   "execution_count": null,
   "metadata": {},
   "outputs": [],
   "source": [
    "dataloader = DataLoader(df, tokenizer, max_length)\n",
    "\n",
    "feature_list = []\n",
    "text_list = []\n",
    "label_list = []\n",
    "\n",
    "for index in range(1000):\n",
    "    print(index)\n",
    "    text, label, ids, mask = dataloader(index)\n",
    "    output = bert(ids, mask).view(-1).detach().numpy()\n",
    "    feature_list.append(output)\n",
    "    text_list.append(text) \n",
    "    label_list.append(label)"
   ]
  },
  {
   "cell_type": "code",
   "execution_count": 99,
   "metadata": {},
   "outputs": [],
   "source": [
    "cos_similarity_list = []\n",
    "\n",
    "base_idx = 105\n",
    "base_feature = feature_list[base_idx]\n",
    "for feature in feature_list:\n",
    "    cos_similarity = np.dot(base_feature, feature) / (np.linalg.norm(base_feature) * np.linalg.norm(feature))\n",
    "    cos_similarity_list.append(cos_similarity)\n",
    "    \n",
    "indices = np.argsort(cos_similarity_list)[::-1]"
   ]
  },
  {
   "cell_type": "code",
   "execution_count": null,
   "metadata": {},
   "outputs": [],
   "source": [
    "print(np.array(label_list)[indices[:10]])"
   ]
  },
  {
   "cell_type": "code",
   "execution_count": null,
   "metadata": {},
   "outputs": [],
   "source": []
  },
  {
   "cell_type": "code",
   "execution_count": null,
   "metadata": {},
   "outputs": [],
   "source": []
  }
 ],
 "metadata": {
  "kernelspec": {
   "display_name": "Python 3",
   "language": "python",
   "name": "python3"
  },
  "language_info": {
   "codemirror_mode": {
    "name": "ipython",
    "version": 3
   },
   "file_extension": ".py",
   "mimetype": "text/x-python",
   "name": "python",
   "nbconvert_exporter": "python",
   "pygments_lexer": "ipython3",
   "version": "3.7.4"
  }
 },
 "nbformat": 4,
 "nbformat_minor": 4
}
