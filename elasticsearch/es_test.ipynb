{
 "cells": [
  {
   "cell_type": "code",
   "execution_count": 1,
   "metadata": {},
   "outputs": [],
   "source": [
    "import numpy as np\n",
    "from elasticsearch import Elasticsearch\n",
    "from elasticsearch.helpers import bulk"
   ]
  },
  {
   "cell_type": "code",
   "execution_count": 2,
   "metadata": {},
   "outputs": [],
   "source": [
    "client = Elasticsearch('localhost:9200')"
   ]
  },
  {
   "cell_type": "markdown",
   "metadata": {},
   "source": [
    "# Create Index"
   ]
  },
  {
   "cell_type": "code",
   "execution_count": 11,
   "metadata": {},
   "outputs": [],
   "source": [
    "mappings = {\n",
    "    'properties': {\n",
    "        'id': {'type': 'integer'},\n",
    "        'label': {'type': 'text'},\n",
    "        'group': {'type': 'integer'},\n",
    "        'feature': {'type': 'dense_vector', 'dims': 128}\n",
    "    }\n",
    "}"
   ]
  },
  {
   "cell_type": "code",
   "execution_count": 12,
   "metadata": {},
   "outputs": [],
   "source": [
    "if client.indices.exists(index='matching'):\n",
    "    client.indices.delete(index='matching', ignore=[404])"
   ]
  },
  {
   "cell_type": "code",
   "execution_count": 13,
   "metadata": {},
   "outputs": [
    {
     "data": {
      "text/plain": [
       "{'acknowledged': True, 'shards_acknowledged': True, 'index': 'matching'}"
      ]
     },
     "execution_count": 13,
     "metadata": {},
     "output_type": "execute_result"
    }
   ],
   "source": [
    "client.indices.create(index='matching', body={'mappings': mappings})"
   ]
  },
  {
   "cell_type": "markdown",
   "metadata": {},
   "source": [
    "# Create Documents"
   ]
  },
  {
   "cell_type": "code",
   "execution_count": 15,
   "metadata": {},
   "outputs": [],
   "source": [
    "n_data = 10000"
   ]
  },
  {
   "cell_type": "code",
   "execution_count": 16,
   "metadata": {},
   "outputs": [],
   "source": [
    "features = np.random.uniform(size=(n_data, 128))"
   ]
  },
  {
   "cell_type": "code",
   "execution_count": 17,
   "metadata": {},
   "outputs": [
    {
     "data": {
      "text/plain": [
       "{'_index': 'matching',\n",
       " '_type': '_doc',\n",
       " '_id': 'ufGyAHQBaU0E8SR2SZc9',\n",
       " '_version': 1,\n",
       " 'result': 'created',\n",
       " '_shards': {'total': 2, 'successful': 1, 'failed': 0},\n",
       " '_seq_no': 0,\n",
       " '_primary_term': 1}"
      ]
     },
     "execution_count": 17,
     "metadata": {},
     "output_type": "execute_result"
    }
   ],
   "source": [
    "client.index('matching', body={'id': 0, 'label': 'foo', 'feature': list(np.random.uniform(size=(128, )))})"
   ]
  },
  {
   "cell_type": "code",
   "execution_count": 20,
   "metadata": {},
   "outputs": [],
   "source": [
    "def generate_data(features):\n",
    "    for i, f in enumerate(features):\n",
    "        yield {\n",
    "            '_index': 'matching',\n",
    "            'id': i + 1,\n",
    "            'feature': list(f),\n",
    "            'group': i % 10,\n",
    "            'label' : f'name={i:04d}'\n",
    "        }"
   ]
  },
  {
   "cell_type": "code",
   "execution_count": 23,
   "metadata": {},
   "outputs": [
    {
     "data": {
      "text/plain": [
       "(10000, [])"
      ]
     },
     "execution_count": 23,
     "metadata": {},
     "output_type": "execute_result"
    }
   ],
   "source": [
    "bulk(client, generate_data(features))"
   ]
  },
  {
   "cell_type": "markdown",
   "metadata": {},
   "source": [
    "# Index Documents"
   ]
  },
  {
   "cell_type": "code",
   "execution_count": 44,
   "metadata": {},
   "outputs": [],
   "source": [
    "query_feature = np.random.uniform(size=(128,))"
   ]
  },
  {
   "cell_type": "code",
   "execution_count": 45,
   "metadata": {},
   "outputs": [],
   "source": [
    "res = client.search(\n",
    "    index='matching',\n",
    "    body={\n",
    "        'query': {\n",
    "            'script_score': {\n",
    "                'query': {\n",
    "                    'match_all': {}\n",
    "                },\n",
    "                'script': {\n",
    "                    'source': \"cosineSimilarity(params.query_vec, doc['feature'])\",\n",
    "                    'params': {\n",
    "                        'query_vec': query_feature.tolist()\n",
    "                    }\n",
    "                }\n",
    "            }\n",
    "        }\n",
    "    }\n",
    ")"
   ]
  },
  {
   "cell_type": "code",
   "execution_count": 46,
   "metadata": {},
   "outputs": [],
   "source": [
    "top_object = res['hits']['hits'][0]['_source']"
   ]
  },
  {
   "cell_type": "code",
   "execution_count": 47,
   "metadata": {},
   "outputs": [
    {
     "data": {
      "text/plain": [
       "{'id': 9708,\n",
       " 'feature': [0.6760291229599595,\n",
       "  0.2966148815240065,\n",
       "  0.33944093098883066,\n",
       "  0.5644720934573715,\n",
       "  0.3657261997900604,\n",
       "  0.6305739591241626,\n",
       "  0.8164859460292493,\n",
       "  0.6964902409197422,\n",
       "  0.18530467313462684,\n",
       "  0.8433154239842243,\n",
       "  0.4165636664090644,\n",
       "  0.026351048177662317,\n",
       "  0.9429093215887854,\n",
       "  0.5352761032789485,\n",
       "  0.13043730095431938,\n",
       "  0.9196826431641023,\n",
       "  0.9507341352345094,\n",
       "  0.28326186253587016,\n",
       "  0.21258749042521796,\n",
       "  0.07897531521002654,\n",
       "  0.8701521613502181,\n",
       "  0.9763373839089314,\n",
       "  0.05488923418754432,\n",
       "  0.3446566899678125,\n",
       "  0.06237134057417426,\n",
       "  0.565305107476396,\n",
       "  0.23725395455096943,\n",
       "  0.975236636898188,\n",
       "  0.3747267254206045,\n",
       "  0.29445549775539714,\n",
       "  0.44448025903355415,\n",
       "  0.7837316900029357,\n",
       "  0.4079884787222843,\n",
       "  0.7885345703340448,\n",
       "  0.7106741977881398,\n",
       "  0.469352085422033,\n",
       "  0.7031680864037874,\n",
       "  0.31027291552448355,\n",
       "  0.4891222434485505,\n",
       "  0.9668464527170834,\n",
       "  0.8781687150651835,\n",
       "  0.6184862313165623,\n",
       "  0.4468476730690627,\n",
       "  0.7531289380239988,\n",
       "  0.6208164242898271,\n",
       "  0.9831020882876028,\n",
       "  0.36336510952893974,\n",
       "  0.675406664730333,\n",
       "  0.27650432463176844,\n",
       "  0.5484655061003033,\n",
       "  0.5448440279409112,\n",
       "  0.5222401139039923,\n",
       "  0.06358954845970621,\n",
       "  0.11176423705695082,\n",
       "  0.3215390537538878,\n",
       "  0.3605354429390304,\n",
       "  0.655262655552579,\n",
       "  0.18506831691914505,\n",
       "  0.7071362271374299,\n",
       "  0.7247492342125755,\n",
       "  0.2407541676903291,\n",
       "  0.30471622780730323,\n",
       "  0.393439431288244,\n",
       "  0.7732894127660532,\n",
       "  0.7544499560322322,\n",
       "  0.5248034823341567,\n",
       "  0.4368425501716995,\n",
       "  0.2670515136843228,\n",
       "  0.012580840383784153,\n",
       "  0.41848456524874056,\n",
       "  0.7771024715541793,\n",
       "  0.5474664019459081,\n",
       "  0.9290988107868718,\n",
       "  0.687386499983745,\n",
       "  0.315375893954301,\n",
       "  0.2371244388880851,\n",
       "  0.895719210654971,\n",
       "  0.7427589284836349,\n",
       "  0.602602523265808,\n",
       "  0.5245343925179216,\n",
       "  0.8814645575161161,\n",
       "  0.7655680771894164,\n",
       "  0.7174841951948805,\n",
       "  0.6664758996593901,\n",
       "  0.859309526150585,\n",
       "  0.9775127778904928,\n",
       "  0.9571009824638773,\n",
       "  0.0010823671255817402,\n",
       "  0.44475637104443166,\n",
       "  0.32497719709711104,\n",
       "  0.9455833387378656,\n",
       "  0.43050305711110104,\n",
       "  0.3069005981781102,\n",
       "  0.2605770697131735,\n",
       "  0.4711632803777873,\n",
       "  0.6524434641795848,\n",
       "  0.22973034673181958,\n",
       "  0.42325919610010876,\n",
       "  0.020756862700640255,\n",
       "  0.8358367630429824,\n",
       "  0.9841514580628445,\n",
       "  0.6424968830216009,\n",
       "  0.9338182990782269,\n",
       "  0.6108117057980494,\n",
       "  0.45668742383951044,\n",
       "  0.38422307935012046,\n",
       "  0.007487577303616488,\n",
       "  0.38167382452611476,\n",
       "  0.6707504063044938,\n",
       "  0.9816999170350845,\n",
       "  0.2928203106774808,\n",
       "  0.13974736679681132,\n",
       "  0.9421740120895087,\n",
       "  0.6704418020179299,\n",
       "  0.01009302153647551,\n",
       "  0.1833220094202248,\n",
       "  0.9486172948542506,\n",
       "  0.21334862571504343,\n",
       "  0.2181093452594648,\n",
       "  0.7460940655985732,\n",
       "  0.8583582094154052,\n",
       "  0.6888101357903844,\n",
       "  0.8594618666454614,\n",
       "  0.12390369053216799,\n",
       "  0.7972933026656309,\n",
       "  0.8782089938917446,\n",
       "  0.19072792823691398,\n",
       "  0.9421481932755652],\n",
       " 'group': 7,\n",
       " 'label': 'name=9707'}"
      ]
     },
     "execution_count": 47,
     "metadata": {},
     "output_type": "execute_result"
    }
   ],
   "source": [
    "top_object"
   ]
  },
  {
   "cell_type": "code",
   "execution_count": 39,
   "metadata": {},
   "outputs": [],
   "source": [
    "res = client.search(\n",
    "    index='matching',\n",
    "    body={\n",
    "        'query': {'match_all': {}},\n",
    "        \"_source\": [\"account_number\", \"balance\"]\n",
    "    }\n",
    ")"
   ]
  },
  {
   "cell_type": "code",
   "execution_count": 43,
   "metadata": {
    "scrolled": true
   },
   "outputs": [
    {
     "data": {
      "text/plain": [
       "{'_index': 'matching',\n",
       " '_type': '_doc',\n",
       " '_id': 'ufGyAHQBaU0E8SR2SZc9',\n",
       " '_score': 1.0,\n",
       " '_source': {}}"
      ]
     },
     "execution_count": 43,
     "metadata": {},
     "output_type": "execute_result"
    }
   ],
   "source": [
    "res['hits']['hits'][0]"
   ]
  },
  {
   "cell_type": "code",
   "execution_count": 4,
   "metadata": {},
   "outputs": [],
   "source": [
    "x = {'test1': 1, 'test2': 2}"
   ]
  },
  {
   "cell_type": "code",
   "execution_count": 5,
   "metadata": {},
   "outputs": [
    {
     "data": {
      "text/plain": [
       "1"
      ]
     },
     "execution_count": 5,
     "metadata": {},
     "output_type": "execute_result"
    }
   ],
   "source": [
    "x.pop('test1')"
   ]
  },
  {
   "cell_type": "code",
   "execution_count": 6,
   "metadata": {},
   "outputs": [
    {
     "data": {
      "text/plain": [
       "{'test2': 2}"
      ]
     },
     "execution_count": 6,
     "metadata": {},
     "output_type": "execute_result"
    }
   ],
   "source": [
    "x"
   ]
  },
  {
   "cell_type": "code",
   "execution_count": null,
   "metadata": {},
   "outputs": [],
   "source": []
  }
 ],
 "metadata": {
  "kernelspec": {
   "display_name": "Python 3",
   "language": "python",
   "name": "python3"
  },
  "language_info": {
   "codemirror_mode": {
    "name": "ipython",
    "version": 3
   },
   "file_extension": ".py",
   "mimetype": "text/x-python",
   "name": "python",
   "nbconvert_exporter": "python",
   "pygments_lexer": "ipython3",
   "version": "3.7.4"
  }
 },
 "nbformat": 4,
 "nbformat_minor": 4
}
