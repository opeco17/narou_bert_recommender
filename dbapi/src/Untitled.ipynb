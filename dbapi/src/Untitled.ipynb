{
 "cells": [
  {
   "cell_type": "code",
   "execution_count": 29,
   "metadata": {},
   "outputs": [],
   "source": [
    "import json\n",
    "\n",
    "import requests\n",
    "import sqlite3\n",
    "import pandas as pd\n",
    "import MeCab"
   ]
  },
  {
   "cell_type": "code",
   "execution_count": 2,
   "metadata": {},
   "outputs": [],
   "source": [
    "conn = sqlite3.connect('./db/test.sqlite3')\n",
    "c = conn.cursor()"
   ]
  },
  {
   "cell_type": "markdown",
   "metadata": {},
   "source": [
    "# ポイント予測に必要なDataFrameの前処理"
   ]
  },
  {
   "cell_type": "code",
   "execution_count": 31,
   "metadata": {},
   "outputs": [],
   "source": [
    "def preprocessing(text):\n",
    "    text = re.sub('\\n', '', text)\n",
    "    text = re.sub('\\r', '', text)\n",
    "    text = re.sub(' ', '', text)\n",
    "    text = re.sub('　', '', text)\n",
    "    return text"
   ]
  },
  {
   "cell_type": "code",
   "execution_count": 32,
   "metadata": {},
   "outputs": [],
   "source": [
    "def count_noun_number(mecab, text):\n",
    "    text = str(text)\n",
    "    c = []\n",
    "    for line in mecab.parse(text).splitlines():\n",
    "        try:\n",
    "            if \"名詞\" in line.split()[-1]:\n",
    "                c.append(line)\n",
    "        except:\n",
    "            pass\n",
    "    return len(set(c))"
   ]
  },
  {
   "cell_type": "code",
   "execution_count": 110,
   "metadata": {},
   "outputs": [],
   "source": [
    "def point_prediction(url, conn, cursor, mode, ncodes=None):\n",
    "    if mode not in ['all', 'part']:\n",
    "        raise Exception('Argument mode shoud be all or part.')\n",
    "    if mode == 'part' and type(ncodes) is not list:\n",
    "        raise Exception('Argument ncodes should be list of string.')\n",
    "    \n",
    "    mecab = MeCab.Tagger(\"-Ochasen\")\n",
    "    \n",
    "    if mode == 'all':\n",
    "        detail_df = pd.read_sql_query(sql=\"SELECT * FROM details WHERE predict_point='Nan' LIMIT 10\", con=conn)\n",
    "        ncodes = list(detail_df.ncode)\n",
    "    elif mode == 'part':\n",
    "        ncodes_str = ', '.join(map(str, list([\"'{}'\".format(ncode) for ncode in ncodes])))\n",
    "        detail_df = pd.read_sql_query(sql=\"SELECT * FROM details WHERE ncode IN ({})\".format(ncodes_str), con=conn)\n",
    "    \n",
    "    for column in ['title', 'story', 'text']:\n",
    "        detail_df[column + '_length'] = detail_df[column].apply(lambda x: len(str(x)))\n",
    "    detail_df['keyword_number'] = detail_df['keyword'].apply(lambda x: len(str(x).split(' ')))\n",
    "    detail_df['noun_proportion_in_text'] = detail_df.text.apply(lambda x: count_noun_number(mecab, str(x)) / len(str(x)))\n",
    "    \n",
    "    headers = {'Content-Type': 'application/json'}\n",
    "    data = {}\n",
    "    data = {column: list(detail_df[column]) for column in list(detail_df.columns)}\n",
    "    data = json.dumps(data)\n",
    "    r_post = requests.post(url, headers=headers, json=data)\n",
    "    \n",
    "    predicted_points = r_post.json()['prediction']\n",
    "    ncodes = list(detail_df.ncode)\n",
    "    for ncode, predicted_point in zip(ncodes, predicted_points):\n",
    "        c.execute(\"UPDATE details SET predict_point={} WHERE ncode='{}'\".format(predicted_point, ncode))"
   ]
  },
  {
   "cell_type": "code",
   "execution_count": 111,
   "metadata": {},
   "outputs": [],
   "source": [
    "url = 'http://localhost:5000/predict'"
   ]
  },
  {
   "cell_type": "code",
   "execution_count": 112,
   "metadata": {},
   "outputs": [],
   "source": [
    "point_prediction(url, conn, c, mode='all')"
   ]
  },
  {
   "cell_type": "code",
   "execution_count": null,
   "metadata": {},
   "outputs": [],
   "source": []
  },
  {
   "cell_type": "code",
   "execution_count": null,
   "metadata": {},
   "outputs": [],
   "source": []
  },
  {
   "cell_type": "code",
   "execution_count": null,
   "metadata": {},
   "outputs": [],
   "source": []
  },
  {
   "cell_type": "code",
   "execution_count": 67,
   "metadata": {
    "scrolled": true
   },
   "outputs": [
    {
     "data": {
      "text/plain": [
       "<sqlite3.Cursor at 0x7fac86805110>"
      ]
     },
     "execution_count": 67,
     "metadata": {},
     "output_type": "execute_result"
    }
   ],
   "source": [
    "#c.execute(\"CREATE INDEX ncodeindex ON details(ncode)\")"
   ]
  },
  {
   "cell_type": "markdown",
   "metadata": {},
   "source": [
    "# カラム名取得"
   ]
  },
  {
   "cell_type": "code",
   "execution_count": null,
   "metadata": {},
   "outputs": [],
   "source": [
    "c.execute('select * from details limit 1')"
   ]
  },
  {
   "cell_type": "code",
   "execution_count": 74,
   "metadata": {},
   "outputs": [],
   "source": [
    "names = list(map(lambda x: x[0], c.description))"
   ]
  },
  {
   "cell_type": "code",
   "execution_count": 75,
   "metadata": {
    "scrolled": true
   },
   "outputs": [
    {
     "data": {
      "text/plain": [
       "['index',\n",
       " 'title',\n",
       " 'ncode',\n",
       " 'userid',\n",
       " 'writer',\n",
       " 'story',\n",
       " 'biggenre',\n",
       " 'genre',\n",
       " 'keyword',\n",
       " 'general_firstup',\n",
       " 'general_lastup',\n",
       " 'novel_type',\n",
       " 'end',\n",
       " 'general_all_no',\n",
       " 'length',\n",
       " 'time',\n",
       " 'isstop',\n",
       " 'isr15',\n",
       " 'isbl',\n",
       " 'isgl',\n",
       " 'iszankoku',\n",
       " 'istensei',\n",
       " 'istenni',\n",
       " 'pc_or_k',\n",
       " 'global_point',\n",
       " 'daily_point',\n",
       " 'weekly_point',\n",
       " 'monthly_point',\n",
       " 'quarter_point',\n",
       " 'yearly_point',\n",
       " 'fav_novel_cnt',\n",
       " 'impression_cnt',\n",
       " 'review_cnt',\n",
       " 'all_point',\n",
       " 'all_hyoka_cnt',\n",
       " 'sasie_cnt',\n",
       " 'kaiwaritu',\n",
       " 'novelupdated_at',\n",
       " 'updated_at',\n",
       " 'weekly_unique',\n",
       " 'text',\n",
       " 'predict_point']"
      ]
     },
     "execution_count": 75,
     "metadata": {},
     "output_type": "execute_result"
    }
   ],
   "source": [
    "names"
   ]
  },
  {
   "cell_type": "code",
   "execution_count": null,
   "metadata": {},
   "outputs": [],
   "source": []
  }
 ],
 "metadata": {
  "kernelspec": {
   "display_name": "Python 3",
   "language": "python",
   "name": "python3"
  },
  "language_info": {
   "codemirror_mode": {
    "name": "ipython",
    "version": 3
   },
   "file_extension": ".py",
   "mimetype": "text/x-python",
   "name": "python",
   "nbconvert_exporter": "python",
   "pygments_lexer": "ipython3",
   "version": "3.7.4"
  }
 },
 "nbformat": 4,
 "nbformat_minor": 4
}
