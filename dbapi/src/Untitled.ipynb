{
 "cells": [
  {
   "cell_type": "code",
   "execution_count": 1,
   "metadata": {},
   "outputs": [],
   "source": [
    "import sqlite3"
   ]
  },
  {
   "cell_type": "code",
   "execution_count": 2,
   "metadata": {},
   "outputs": [],
   "source": [
    "conn = sqlite3.connect('./db/test.sqlite3')\n",
    "c = conn.cursor()"
   ]
  },
  {
   "cell_type": "code",
   "execution_count": 10,
   "metadata": {},
   "outputs": [
    {
     "data": {
      "text/plain": [
       "<sqlite3.Cursor at 0x10bc545e0>"
      ]
     },
     "execution_count": 10,
     "metadata": {},
     "output_type": "execute_result"
    }
   ],
   "source": [
    "c.execute('PRAGMA table_info(details)')"
   ]
  },
  {
   "cell_type": "code",
   "execution_count": 11,
   "metadata": {
    "scrolled": true
   },
   "outputs": [
    {
     "data": {
      "text/plain": [
       "[(0, 'index', 'INTEGER', 0, None, 0),\n",
       " (1, 'title', 'TEXT', 0, None, 0),\n",
       " (2, 'ncode', 'TEXT', 0, None, 0),\n",
       " (3, 'userid', 'TEXT', 0, None, 0),\n",
       " (4, 'writer', 'TEXT', 0, None, 0),\n",
       " (5, 'story', 'TEXT', 0, None, 0),\n",
       " (6, 'biggenre', 'INTEGER', 0, None, 0),\n",
       " (7, 'genre', 'INTEGER', 0, None, 0),\n",
       " (8, 'keyword', 'TEXT', 0, None, 0),\n",
       " (9, 'general_firstup', 'INTEGER', 0, None, 0),\n",
       " (10, 'general_lastup', 'INTEGER', 0, None, 0),\n",
       " (11, 'novel_type', 'INTEGER', 0, None, 0),\n",
       " (12, 'end', 'INTEGER', 0, None, 0),\n",
       " (13, 'general_all_no', 'INTEGER', 0, None, 0),\n",
       " (14, 'length', 'INTEGER', 0, None, 0),\n",
       " (15, 'time', 'INTEGER', 0, None, 0),\n",
       " (16, 'isstop', 'INTEGER', 0, None, 0),\n",
       " (17, 'isr15', 'INTEGER', 0, None, 0),\n",
       " (18, 'isbl', 'INTEGER', 0, None, 0),\n",
       " (19, 'isgl', 'INTEGER', 0, None, 0),\n",
       " (20, 'iszankoku', 'INTEGER', 0, None, 0),\n",
       " (21, 'istensei', 'INTEGER', 0, None, 0),\n",
       " (22, 'istenni', 'INTEGER', 0, None, 0),\n",
       " (23, 'pc_or_k', 'INTEGER', 0, None, 0),\n",
       " (24, 'global_point', 'INTEGER', 0, None, 0),\n",
       " (25, 'daily_point', 'INTEGER', 0, None, 0),\n",
       " (26, 'weekly_point', 'INTEGER', 0, None, 0),\n",
       " (27, 'monthly_point', 'INTEGER', 0, None, 0),\n",
       " (28, 'quarter_point', 'INTEGER', 0, None, 0),\n",
       " (29, 'yearly_point', 'INTEGER', 0, None, 0),\n",
       " (30, 'fav_novel_cnt', 'INTEGER', 0, None, 0),\n",
       " (31, 'impression_cnt', 'INTEGER', 0, None, 0),\n",
       " (32, 'review_cnt', 'INTEGER', 0, None, 0),\n",
       " (33, 'all_point', 'INTEGER', 0, None, 0),\n",
       " (34, 'all_hyoka_cnt', 'INTEGER', 0, None, 0),\n",
       " (35, 'sasie_cnt', 'INTEGER', 0, None, 0),\n",
       " (36, 'kaiwaritu', 'INTEGER', 0, None, 0),\n",
       " (37, 'novelupdated_at', 'INTEGER', 0, None, 0),\n",
       " (38, 'updated_at', 'INTEGER', 0, None, 0),\n",
       " (39, 'weekly_unique', 'INTEGER', 0, None, 0),\n",
       " (40, 'text', 'TEXT', 0, None, 0),\n",
       " (41, 'predict_point', 'TEXT', 0, None, 0)]"
      ]
     },
     "execution_count": 11,
     "metadata": {},
     "output_type": "execute_result"
    }
   ],
   "source": [
    "c.fetchall()"
   ]
  },
  {
   "cell_type": "code",
   "execution_count": null,
   "metadata": {},
   "outputs": [],
   "source": []
  },
  {
   "cell_type": "code",
   "execution_count": null,
   "metadata": {},
   "outputs": [],
   "source": []
  },
  {
   "cell_type": "code",
   "execution_count": null,
   "metadata": {},
   "outputs": [],
   "source": []
  },
  {
   "cell_type": "code",
   "execution_count": null,
   "metadata": {},
   "outputs": [],
   "source": []
  }
 ],
 "metadata": {
  "kernelspec": {
   "display_name": "Python 3",
   "language": "python",
   "name": "python3"
  },
  "language_info": {
   "codemirror_mode": {
    "name": "ipython",
    "version": 3
   },
   "file_extension": ".py",
   "mimetype": "text/x-python",
   "name": "python",
   "nbconvert_exporter": "python",
   "pygments_lexer": "ipython3",
   "version": "3.7.4"
  }
 },
 "nbformat": 4,
 "nbformat_minor": 4
}
