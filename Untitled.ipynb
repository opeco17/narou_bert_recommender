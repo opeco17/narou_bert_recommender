{
 "cells": [
  {
   "cell_type": "code",
   "execution_count": 2,
   "metadata": {},
   "outputs": [
    {
     "data": {
      "text/plain": [
       "False"
      ]
     },
     "execution_count": 2,
     "metadata": {},
     "output_type": "execute_result"
    }
   ],
   "source": [
    "set([1, 2]) in set([1, 2, 4])"
   ]
  },
  {
   "cell_type": "code",
   "execution_count": 3,
   "metadata": {},
   "outputs": [],
   "source": [
    "import pandas as pd"
   ]
  },
  {
   "cell_type": "code",
   "execution_count": 6,
   "metadata": {
    "scrolled": true
   },
   "outputs": [],
   "source": [
    "df = pd.read_csv('./mlserver/src/test/test_data.csv')"
   ]
  },
  {
   "cell_type": "code",
   "execution_count": 7,
   "metadata": {},
   "outputs": [
    {
     "data": {
      "text/plain": [
       "{'genre': [9903.0, 201.0, 201.0, 201.0, 306.0],\n",
       " 'novel_type': [1.0, 1.0, 1.0, 1.0, 1.0],\n",
       " 'end': [1.0, 1.0, 1.0, 1.0, 1.0],\n",
       " 'general_all_no': [3.0, 14.0, 29.0, 224.0, 10.0],\n",
       " 'isr15': [0.0, 1.0, 1.0, 1.0, 0.0],\n",
       " 'isbl': [0.0, 0.0, 0.0, 0.0, 0.0],\n",
       " 'isgl': [0.0, 0.0, 0.0, 0.0, 0.0],\n",
       " 'iszankoku': [0.0, 1.0, 1.0, 1.0, 0.0],\n",
       " 'istensei': [0.0, 0.0, 1.0, 1.0, 0.0],\n",
       " 'istenni': [0.0, 1.0, 0.0, 0.0, 0.0],\n",
       " 'pc_or_k': [2.0, 2.0, 2.0, 2.0, 2.0],\n",
       " 'is_evaluated': [0, 1, 1, 1, 0],\n",
       " 'title_length': [8, 40, 35, 11, 8],\n",
       " 'story_length': [299, 573, 322, 180, 214],\n",
       " 'text_length': [333, 2717, 6095, 3063, 759],\n",
       " 'keyword_number': [6, 15, 15, 12, 15],\n",
       " 'noun_proportion_in_text': [0.13213213213213212,\n",
       "  0.09900625690099374,\n",
       "  0.08794093519278097,\n",
       "  0.11655239960822725,\n",
       "  0.09881422924901186],\n",
       " 'year': [2020, 2020, 2020, 2019, 2020]}"
      ]
     },
     "execution_count": 7,
     "metadata": {},
     "output_type": "execute_result"
    }
   ],
   "source": [
    "{column: list(df[column])[:5] for column in list(df.columns)}"
   ]
  },
  {
   "cell_type": "code",
   "execution_count": null,
   "metadata": {},
   "outputs": [],
   "source": []
  }
 ],
 "metadata": {
  "kernelspec": {
   "display_name": "Python 3",
   "language": "python",
   "name": "python3"
  },
  "language_info": {
   "codemirror_mode": {
    "name": "ipython",
    "version": 3
   },
   "file_extension": ".py",
   "mimetype": "text/x-python",
   "name": "python",
   "nbconvert_exporter": "python",
   "pygments_lexer": "ipython3",
   "version": "3.8.5"
  }
 },
 "nbformat": 4,
 "nbformat_minor": 4
}
